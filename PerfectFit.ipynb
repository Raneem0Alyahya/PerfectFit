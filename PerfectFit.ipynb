{
  "cells": [
    {
      "cell_type": "markdown",
      "id": "5f89da1d",
      "metadata": {
        "id": "5f89da1d"
      },
      "source": [
        "# PerfectFit: AI-Based Outfit Recommendation\n",
        "This notebook implements a Genetic Algorithm to generate optimal outfit recommendations based on user preferences such as dress code, color palette, comfort level, and budget."
      ]
    },
    {
      "cell_type": "code",
      "execution_count": 1,
      "id": "0dd6b681",
      "metadata": {
        "id": "0dd6b681"
      },
      "outputs": [],
      "source": [
        "# Import necessary libraries\n",
        "import random\n",
        "import pandas as pd\n",
        "import matplotlib.pyplot as plt"
      ]
    },
    {
      "cell_type": "code",
      "execution_count": 2,
      "id": "d8c3e8da",
      "metadata": {
        "id": "d8c3e8da"
      },
      "outputs": [],
      "source": [
        "\n",
        "class Item:\n",
        "    \"\"\"\n",
        "    Represents an item of clothing with attributes like category, name, price, dress code, color, and comfort level.\n",
        "    \"\"\"\n",
        "    def __init__(self, Category, ItemName, Price, DressCode, Color, ComfortLevel):\n",
        "        self.Category = Category\n",
        "        self.ItemName = ItemName\n",
        "        self.Price = Price\n",
        "        self.DressCode = DressCode\n",
        "        self.Color = Color\n",
        "        self.ComfortLevel = ComfortLevel\n",
        "\n",
        "    def __repr__(self):\n",
        "        return f\"Item({self.Category}, {self.ItemName}, {self.Price}, {self.DressCode}, {self.Color}, {self.ComfortLevel})\"\n"
      ]
    },
    {
      "cell_type": "code",
      "execution_count": 3,
      "id": "f42017a1",
      "metadata": {
        "id": "f42017a1"
      },
      "outputs": [],
      "source": [
        "class Outfit:\n",
        "    \"\"\"\n",
        "    Represents an outfit composed of a top, bottom, shoes, neck accessory, and purse.\n",
        "    \"\"\"\n",
        "    def __init__(self, top, bottom, shoes, neck, purse):\n",
        "        self.top = top\n",
        "        self.bottom = bottom\n",
        "        self.shoes = shoes\n",
        "        self.neck = neck\n",
        "        self.purse = purse\n",
        "        self.fitness = None\n",
        "\n",
        "    def __repr__(self):\n",
        "        return (f\"Outfit(Top: {self.top.ItemName}, \"\n",
        "                f\"Bottom: {self.bottom.ItemName}, \"\n",
        "                f\"Shoes: {self.shoes.ItemName}, \"\n",
        "                f\"Neck: {self.neck.ItemName}, \"\n",
        "                f\"Purse: {self.purse.ItemName}, \"\n",
        "                f\"Fitness: {self.fitness})\")\n"
      ]
    },
    {
      "cell_type": "code",
      "execution_count": 4,
      "id": "3ce9e007",
      "metadata": {
        "id": "3ce9e007"
      },
      "outputs": [],
      "source": [
        "def Create_Initial_Population(population_size, category_items):\n",
        "    \"\"\"\n",
        "    Creates an initial population of outfits by randomly selecting items from each category.\n",
        "    \"\"\"\n",
        "    population = []\n",
        "    for _ in range(population_size):\n",
        "        selected_top = random.choice(category_items.get('Top'))\n",
        "        selected_bottom = random.choice(category_items.get('Bottom'))\n",
        "        selected_shoes = random.choice(category_items.get('Shoes'))\n",
        "        selected_neck = random.choice(category_items.get('Neck'))\n",
        "        selected_purse = random.choice(category_items.get('Purse'))\n",
        "\n",
        "        outfit = Outfit(selected_top, selected_bottom, selected_shoes, selected_neck, selected_purse)\n",
        "        population.append(outfit)\n",
        "\n",
        "    return population\n"
      ]
    },
    {
      "cell_type": "code",
      "execution_count": 5,
      "id": "a995faf2",
      "metadata": {
        "id": "a995faf2"
      },
      "outputs": [],
      "source": [
        "def fitness_function(outfit, dressCode, palette, comfort, budget):\n",
        "    \"\"\"\n",
        "    Calculates the fitness of an outfit based on dress code, color palette, comfort level, and budget.\n",
        "    \"\"\"\n",
        "    sumDress = sumPallete = sumComfort = sumPrice = 0\n",
        "\n",
        "    for item in [outfit.top, outfit.bottom, outfit.shoes, outfit.neck, outfit.purse]:\n",
        "        sumDress += 1 if item.DressCode.casefold() == dressCode.casefold() else 0\n",
        "        sumPallete += 1 if item.Color.casefold() == palette.casefold() else 0\n",
        "        sumComfort += 1 if item.ComfortLevel == comfort else 0\n",
        "        sumPrice += item.Price\n",
        "\n",
        "    withinBudget = 1 if sumPrice <= budget else 0\n",
        "    weighted_sum = 0.35 * sumDress + 0.15 * sumPallete + 0.15 * sumComfort + 0.35 * withinBudget\n",
        "    weighted_sum = weighted_sum / 3.6  # Normalize to a maximum of 1.0\n",
        "\n",
        "    outfit.fitness = weighted_sum\n"
      ]
    },
    {
      "cell_type": "code",
      "execution_count": 6,
      "id": "8affb94e",
      "metadata": {
        "id": "8affb94e"
      },
      "outputs": [],
      "source": [
        "def select_parents(population):\n",
        "    \"\"\"\n",
        "    Selects two parents from the population using binary tournament selection.\n",
        "    \"\"\"\n",
        "    parents = []\n",
        "    for _ in range(2):\n",
        "        a = random.choice(population)\n",
        "        b = random.choice(population)\n",
        "        parents.append(a if a.fitness > b.fitness else b)\n",
        "    return parents\n"
      ]
    },
    {
      "cell_type": "code",
      "execution_count": 7,
      "id": "140de90c",
      "metadata": {
        "id": "140de90c"
      },
      "outputs": [],
      "source": [
        "def two_point_crossover(parent1, parent2, crossover_point1, crossover_point2):\n",
        "    \"\"\"\n",
        "    Performs two-point crossover between two parents to produce two children.\n",
        "    \"\"\"\n",
        "    crossover_points = sorted([crossover_point1, crossover_point2])\n",
        "\n",
        "    child1_items = [\n",
        "        getattr(parent1, attr) if i <= crossover_points[0] or i > crossover_points[1] else getattr(parent2, attr)\n",
        "        for i, attr in enumerate(['top', 'bottom', 'shoes', 'neck', 'purse'], start=1)\n",
        "    ]\n",
        "\n",
        "    child2_items = [\n",
        "        getattr(parent2, attr) if i <= crossover_points[0] or i > crossover_points[1] else getattr(parent1, attr)\n",
        "        for i, attr in enumerate(['top', 'bottom', 'shoes', 'neck', 'purse'], start=1)\n",
        "    ]\n",
        "\n",
        "    child1 = Outfit(*child1_items)\n",
        "    child2 = Outfit(*child2_items)\n",
        "\n",
        "    return child1, child2\n"
      ]
    },
    {
      "cell_type": "code",
      "execution_count": 8,
      "id": "9eca017d",
      "metadata": {
        "id": "9eca017d"
      },
      "outputs": [],
      "source": [
        "def mutate(outfit, mutation_rate, category_items):\n",
        "    \"\"\"\n",
        "    Mutates an outfit by randomly replacing one of its items with another from the same category.\n",
        "    \"\"\"\n",
        "    if random.random() < mutation_rate:\n",
        "        item_to_mutate = random.choice(['top', 'bottom', 'shoes', 'neck', 'purse'])\n",
        "        current_item = getattr(outfit, item_to_mutate)\n",
        "        possible_items = [item for item in category_items.get(item_to_mutate.capitalize()) if item != current_item]\n",
        "        setattr(outfit, item_to_mutate, random.choice(possible_items))\n"
      ]
    },
    {
      "cell_type": "code",
      "execution_count": 9,
      "id": "3dd69514",
      "metadata": {
        "id": "3dd69514"
      },
      "outputs": [],
      "source": [
        "def find_optimal_outfit(population_size, dressCode, palette, comfort, budget):\n",
        "    \"\"\"\n",
        "    Finds the optimal outfit using a genetic algorithm.\n",
        "    \"\"\"\n",
        "    random.seed(42)\n",
        "    population = Create_Initial_Population(population_size, category_items)\n",
        "\n",
        "    for outfit in population:\n",
        "        fitness_function(outfit, dressCode, palette, comfort, budget)\n",
        "\n",
        "    max_generations = 20000\n",
        "    best_outfit = max(population, key=lambda o: o.fitness)\n",
        "\n",
        "    return best_outfit\n"
      ]
    },
    {
      "cell_type": "code",
      "execution_count": 11,
      "id": "9b8618c0",
      "metadata": {
        "colab": {
          "base_uri": "https://localhost:8080/"
        },
        "id": "9b8618c0",
        "outputId": "8850c9e6-a00c-414d-caaf-d2f502757f8e"
      },
      "outputs": [
        {
          "output_type": "stream",
          "name": "stdout",
          "text": [
            "Enter dress code (Casual, Sportswear, Business, Evening): casual\n",
            "Enter color palette (Dark, Bright): Bright\n",
            "Enter comfort level (1-5): 4\n",
            "Enter budget (SAR): 4000\n",
            "\n",
            "Suggested outfit:\n",
            "Top: Polo Shirt\n",
            "Bottom: Skirt\n",
            "Shoes: Sandals\n",
            "Neck: Sports Scarf\n",
            "Purse: Canvas Bag\n",
            "Fitness: 0.58\n"
          ]
        }
      ],
      "source": [
        "df = pd.read_csv('search_space.csv')\n",
        "\n",
        "category_items = {}\n",
        "for index, row in df.iterrows():\n",
        "    item = Item(row['Category'], row['ItemNamse'], row['Price'], row['Dress Code'], row['Color'], row['Comfort Level'])\n",
        "    if row['Category'] not in category_items:\n",
        "        category_items[row['Category']] = []\n",
        "    category_items[row['Category']].append(item)\n",
        "\n",
        "entered_dressCode = input('Enter dress code (Casual, Sportswear, Business, Evening): ')\n",
        "entered_color = input('Enter color palette (Dark, Bright): ')\n",
        "entered_comfort = int(input('Enter comfort level (1-5): '))\n",
        "entered_budget = int(input('Enter budget (SAR): '))\n",
        "\n",
        "best_outfit = find_optimal_outfit(10, entered_dressCode, entered_color, entered_comfort, entered_budget)\n",
        "\n",
        "print('\\nSuggested outfit:')\n",
        "print('Top:', best_outfit.top.ItemName)\n",
        "print('Bottom:', best_outfit.bottom.ItemName)\n",
        "print('Shoes:', best_outfit.shoes.ItemName)\n",
        "print('Neck:', best_outfit.neck.ItemName)\n",
        "print('Purse:', best_outfit.purse.ItemName)\n",
        "print(f'Fitness: {best_outfit.fitness:.2f}')\n"
      ]
    }
  ],
  "metadata": {
    "language_info": {
      "name": "python"
    },
    "colab": {
      "provenance": []
    },
    "kernelspec": {
      "name": "python3",
      "display_name": "Python 3"
    }
  },
  "nbformat": 4,
  "nbformat_minor": 5
}